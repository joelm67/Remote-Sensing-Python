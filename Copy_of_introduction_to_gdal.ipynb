{
  "nbformat": 4,
  "nbformat_minor": 0,
  "metadata": {
    "colab": {
      "name": "Copy of introduction_to_gdal.ipynb",
      "provenance": [],
      "collapsed_sections": [],
      "include_colab_link": true
    },
    "kernelspec": {
      "name": "python3",
      "display_name": "Python 3"
    }
  },
  "cells": [
    {
      "cell_type": "markdown",
      "metadata": {
        "id": "view-in-github",
        "colab_type": "text"
      },
      "source": [
        "<a href=\"https://colab.research.google.com/github/joelm67/Remote-Sensing-Python/blob/main/Copy_of_introduction_to_gdal.ipynb\" target=\"_parent\"><img src=\"https://colab.research.google.com/assets/colab-badge.svg\" alt=\"Open In Colab\"/></a>"
      ]
    },
    {
      "cell_type": "markdown",
      "metadata": {
        "id": "zYO1WwjDL7OM"
      },
      "source": [
        "# Importing GDAL"
      ]
    },
    {
      "cell_type": "markdown",
      "metadata": {
        "id": "hRMruBVUFrMV"
      },
      "source": [
        "Now that we learned about some of the basic concepts of Python as well as importaing libraries and arrays, let's dive in and start doing image processing.  For this part we are going to do several things.  We are going to import the GDAL library so that we can use it to read and manipulate remotely sensed imagery in geospatial context.  Second we are going to use Numpy capabilities to calculate NDVI and write the file back to the disk using GDAL that can be downloaded.\n",
        "\n",
        "First, lets learn a bit more about importing libraries.  So far, we imported libraries using a simple *import xxxxxx from xx* syntax.  This works because the libraries (Numpy, matplotlib etc) we used so far are common libraries that our Python language knows how to find.  However, the GDAL library we will now import is more *exotic* - meaning that we need to tell our Python interpreter how to find it.  This is done by interacting with the operating system (OS)! \n",
        "\n",
        "The notebook we are working in is a Jupyter notebook that lives on top of a linux virtual machine.  You can think of it as a computer in the cloud with a linux operating system.  The first thing we need to do is to check if the operating system has any updates - just like how you would check for updates for your smart phone.  The `!apt update` and the `!apt upgrade` does that. Next, we are going to install gdal tools.  The line including `!apt install gdal-bin python-gdal python3-gdal` does that.  Note that to interact with the OS, we are using the `!` character (escape character) to escape to the OS! Finally, now that our Python interpreter knows how to find GDAL, we can import it as we import other common libraries.  **Warning: this could take a bit!**"
      ]
    },
    {
      "cell_type": "code",
      "metadata": {
        "id": "C_tQQ2h9FwqL"
      },
      "source": [
        "!apt update\n",
        "!apt upgrade\n",
        "!apt install gdal-bin python-gdal python3-gdal\n",
        "import gdal\n",
        "print(gdal.VersionInfo())\n",
        "import matplotlib.pyplot as plt"
      ],
      "execution_count": null,
      "outputs": []
    },
    {
      "cell_type": "markdown",
      "metadata": {
        "id": "D7Ys99p3Ml5g"
      },
      "source": [
        "# Using GDAL"
      ]
    },
    {
      "cell_type": "markdown",
      "metadata": {
        "id": "d6ILfiXoFxsO"
      },
      "source": [
        "Now that we have made our Python code GDAL capabale, let's start using it.  We are going to use gdal to import our data, read other attributes about the data, and write some results back to an image file.  Here are the steps:\n",
        "- copy image data from a public server in the cloud to local OS\n",
        "- open that file using `gdal.Open`\n",
        "- read data from the opened file using `GetRasterBand` and `ReadAsArray` functions\n",
        "- print some information about the array (image)\n",
        "- calculate NDVI\n",
        "- write the NDVI file back to the OS using `gdal.xxxx`"
      ]
    },
    {
      "cell_type": "code",
      "metadata": {
        "id": "mJVgbyESF1Ds"
      },
      "source": [
        "# grab the image data from the cloud using wget and copy to a local file called \"q3.tif\"\n",
        "!wget \"https://storage.googleapis.com/alexi_daily/EnvSt956/LS_228078_2005q3.tif\" -O q3.tif\n",
        "# open the local file using gdal open into a variable called ds\n",
        "ds = gdal.Open(\"q3.tif\", gdal.GA_ReadOnly)\n",
        "# lets grab some information about this dataset\n",
        "print(\"Driver: {}/{}\".format(ds.GetDriver().ShortName,\n",
        "                            ds.GetDriver().LongName))\n",
        "print(\"Size is {} x {} x {}\".format(ds.RasterXSize,\n",
        "                                    ds.RasterYSize,\n",
        "                                    ds.RasterCount))\n",
        "print(\"Projection is {}\".format(ds.GetProjection()))\n",
        "geotransform = ds.GetGeoTransform()\n",
        "if geotransform:\n",
        "    print(\"Origin = ({}, {})\".format(geotransform[0], geotransform[3]))\n",
        "    print(\"Pixel Size = ({}, {})\".format(geotransform[1], geotransform[5]))\n",
        "\n",
        "!gdalinfo q3.tif"
      ],
      "execution_count": null,
      "outputs": []
    },
    {
      "cell_type": "markdown",
      "metadata": {
        "id": "b5EOMKuSQYIL"
      },
      "source": [
        "Let's break this down.  `gdal.Open` as interpreted is using the `Open` method that belongs to `gdal`, which comes from importing the gdal library.  The `GA_ReadOnly` method opens the file for reading only i.e. it will only allow you to read from the file but not write to it (potentially to prevent accidental overwrite of the file).  Of course when you want to generate a new file and write to the disk, you will want to open the new file with Write permission.\n",
        "\n",
        "Now that the file is opened, we can grab lots of information about that file.  For example you may want to know its dimensions, or projection, or pixel size and etc.\n",
        "- `GetDriver()` returns the file format\n",
        "- `RasterXSize` returns X dimension\n",
        "- `RasterYSize` returns Y dimension\n",
        "- `RasterCount` returns number of bands\n",
        "- `GetProjection()` returns geodetic projection\n",
        "- `GetGeoTransform()` returns projection transformation parameters with:\n",
        "\n",
        "  `GeoTransform[0]` is top left X coordinate\n",
        "\n",
        "  `GeoTransform[1]` w-e pixel resolution\n",
        "\n",
        "  `GeoTransform[2]` 0\n",
        "\n",
        "  `GeoTransform[3]` top left y coordinate\n",
        "\n",
        "  `GeoTransform[4]` 0\n",
        "\n",
        "  `GeoTransform[5]` n-s pixel resolution (negative value)\n",
        "\n",
        "\n",
        "---\n",
        "\n",
        "\n"
      ]
    },
    {
      "cell_type": "markdown",
      "metadata": {
        "id": "d3q36BwWWUWA"
      },
      "source": [
        "Next is to fetch a raster band, which is done one band at a time for now.  Note that fetching data about the band into an object and reading the band data into an array are different things!  What we are doing below is to fetch band as an object but not as a data array."
      ]
    },
    {
      "cell_type": "code",
      "metadata": {
        "id": "_XxjP3IBWfF0"
      },
      "source": [
        "# read band 1 from the dataset into a variable (object) called band\n",
        "# note 1-based counting\n",
        "# band1 = blue\n",
        "# band2 = green\n",
        "# band3 = red\n",
        "# band4 = NIR\n",
        "# band5 = SWIR1\n",
        "# band6 = SWIR2\n",
        "band = ds.GetRasterBand(5) # get band 1\n",
        "# print data type of the band \n",
        "print(\"Band Type={}\".format(gdal.GetDataTypeName(band.DataType)))\n",
        "\n",
        "# grab the minimum and maximum values of the band\n",
        "min = band.GetMinimum()\n",
        "max = band.GetMaximum()\n",
        "if not min or not max:\n",
        "    (min,max) = band.ComputeRasterMinMax(True)\n",
        "print(\"Min={:.3f}, Max={:.3f}\".format(min,max))\n",
        "\n",
        "if band.GetOverviewCount() > 0:\n",
        "    print(\"Band has {} overviews\".format(band.GetOverviewCount()))\n",
        "\n",
        "if band.GetRasterColorTable():\n",
        "    print(\"Band has a color table with {} entries\".format(band.GetRasterColorTable().GetCount()))\n"
      ],
      "execution_count": null,
      "outputs": []
    },
    {
      "cell_type": "markdown",
      "metadata": {
        "id": "LQuRX5F5Xx66"
      },
      "source": [
        "Next, we'll read data using array option."
      ]
    },
    {
      "cell_type": "code",
      "metadata": {
        "id": "-CO32vx_h_kB"
      },
      "source": [
        "import numpy as np\n",
        "# read the first band of the image into an array (NOTE 1-based counting)\n",
        "# it is read as a numpy array\n",
        "b1 = ds.GetRasterBand(1).ReadAsArray() # band 1\n",
        "# print image details (dimensions)\n",
        "print('shape of the array is:')\n",
        "print(b1.shape)\n",
        "print('the minimumm value of the image is:')\n",
        "print(b1.min())\n",
        "print('the maximum value of the image is:')\n",
        "print(b1.max())\n",
        "#plt.imshow(b1, vmin = 0, vmax = 2000, interpolation='nearest', aspect='auto')\n",
        "#plt.colorbar()\n",
        "#plt.show()\n",
        "\n",
        "# let's do NDVI example\n",
        "# (nir-red)/(nir+red)\n",
        "red = ds.GetRasterBand(3).ReadAsArray() # red band\n",
        "nir = ds.GetRasterBand(4).ReadAsArray() # NIR band\n",
        "ndvi = (nir - red)/(nir + red)\n",
        "print(np.sum(ndvi))\n",
        "print('old min = ',ndvi.min())\n",
        "print('old max = ',ndvi.max())\n",
        "ndvi = np.where(ndvi > 1.0, 1.0, ndvi)\n",
        "print(\"\\n\")\n",
        "print('new min = ',ndvi.min())\n",
        "print('new max = ',ndvi.max())\n",
        "plt.imshow(ndvi, vmin = 0, vmax = 1, interpolation='nearest', aspect='auto')\n",
        "plt.colorbar()\n",
        "plt.show()"
      ],
      "execution_count": null,
      "outputs": []
    },
    {
      "cell_type": "markdown",
      "metadata": {
        "id": "CRhQ2oPH9RaK"
      },
      "source": [
        "Now that we have an NDVI image, let's write it to a new image.  The file writing (file creation) process is a five step process:\n",
        "- select a driver (driver means file type). Here is a list of drivers supported by GDAL [GDAL drivers](https://gdal.org/drivers/raster/index.html)\n",
        "- create an empty file (shell) with that driver and correct dimensions\n",
        "- populate the metadata properties of the output file\n",
        "- populate the pixels with an array\n",
        "- write the file to the disk"
      ]
    },
    {
      "cell_type": "code",
      "metadata": {
        "id": "JWOIqGbr-WeE"
      },
      "source": [
        "# grab dimensions of the file\n",
        "[cols, rows] = ndvi.shape\n",
        "# use the Geotiff driver\n",
        "driver = gdal.GetDriverByName(\"GTiff\")\n",
        "# create an output file data object\n",
        "outdata = driver.Create('myndvi.tif', rows, cols, 1, gdal.GDT_Float32,[ 'COMPRESS=LZW' ])\n",
        "outdata.SetGeoTransform(ds.GetGeoTransform()) # sets same geotransform as input\n",
        "outdata.SetProjection(ds.GetProjection()) # sets same projection as input\n",
        "outdata.GetRasterBand(1).WriteArray(ndvi)\n",
        "#outdata.GetRasterBand(1).SetNoDataValue(-99.0) # if you want these values transparent\n",
        "outdata.FlushCache() # saves to disk!!\n",
        "outdata = None # closes the file\n",
        "# you can check if the file exist and has the correct dimensions/type\n",
        "!gdalinfo myndvi.tif"
      ],
      "execution_count": null,
      "outputs": []
    },
    {
      "cell_type": "markdown",
      "metadata": {
        "id": "gj9Pe8hyBQiU"
      },
      "source": [
        "Finally, we can download this disk file to your local computer using a colab library"
      ]
    },
    {
      "cell_type": "code",
      "metadata": {
        "id": "43aAGJWaBX_t"
      },
      "source": [
        "from google.colab import files\n",
        "files.download('myndvi.tif')"
      ],
      "execution_count": null,
      "outputs": []
    }
  ]
}